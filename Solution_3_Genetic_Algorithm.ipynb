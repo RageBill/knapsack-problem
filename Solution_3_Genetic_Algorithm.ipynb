{
 "cells": [
  {
   "cell_type": "markdown",
   "id": "proprietary-peter",
   "metadata": {},
   "source": [
    "# Reading data from datasets"
   ]
  },
  {
   "cell_type": "code",
   "execution_count": 1,
   "id": "neural-passport",
   "metadata": {
    "ExecuteTime": {
     "end_time": "2021-02-11T06:33:05.621833Z",
     "start_time": "2021-02-11T06:33:05.538888Z"
    }
   },
   "outputs": [],
   "source": [
    "import util\n",
    "import numpy as np\n",
    "import random"
   ]
  },
  {
   "cell_type": "code",
   "execution_count": 2,
   "id": "noticed-carrier",
   "metadata": {
    "ExecuteTime": {
     "end_time": "2021-02-11T06:33:05.628287Z",
     "start_time": "2021-02-11T06:33:05.624555Z"
    }
   },
   "outputs": [],
   "source": [
    "# Available datasets: p01 to p08, c08 to c11\n",
    "[[capacity], weights, profits, optimal_solution] = util.read_data('c10')\n",
    "optimal_profits = np.multiply(optimal_solution, profits).sum()"
   ]
  },
  {
   "cell_type": "code",
   "execution_count": 3,
   "id": "increased-genesis",
   "metadata": {
    "ExecuteTime": {
     "end_time": "2021-02-11T06:33:05.640227Z",
     "start_time": "2021-02-11T06:33:05.630765Z"
    }
   },
   "outputs": [
    {
     "data": {
      "text/plain": [
       "863123059"
      ]
     },
     "execution_count": 3,
     "metadata": {},
     "output_type": "execute_result"
    }
   ],
   "source": [
    "capacity"
   ]
  },
  {
   "cell_type": "code",
   "execution_count": 4,
   "id": "elementary-blank",
   "metadata": {
    "ExecuteTime": {
     "end_time": "2021-02-11T06:33:05.647007Z",
     "start_time": "2021-02-11T06:33:05.642367Z"
    }
   },
   "outputs": [
    {
     "data": {
      "text/plain": [
       "[18427422,\n",
       " 37073025,\n",
       " 37645807,\n",
       " 48092435,\n",
       " 19026777,\n",
       " 31341879,\n",
       " 19087179,\n",
       " 17172221,\n",
       " 27936937,\n",
       " 39331629,\n",
       " 15437562,\n",
       " 43701941,\n",
       " 45763844,\n",
       " 26377355,\n",
       " 24377559,\n",
       " 12835054,\n",
       " 36350045,\n",
       " 44765946,\n",
       " 7367789,\n",
       " 13814390,\n",
       " 28726138,\n",
       " 42582063,\n",
       " 38119242,\n",
       " 20600442,\n",
       " 39565042,\n",
       " 28170306,\n",
       " 41075409,\n",
       " 18902330,\n",
       " 40210230,\n",
       " 44940994,\n",
       " 15056905,\n",
       " 28959901,\n",
       " 12360624,\n",
       " 13078452,\n",
       " 43112045,\n",
       " 40850230,\n",
       " 15187270,\n",
       " 10146034,\n",
       " 37232217,\n",
       " 28614856,\n",
       " 42950615,\n",
       " 22852553,\n",
       " 42192942,\n",
       " 32288911,\n",
       " 5594339,\n",
       " 32161935,\n",
       " 14809690,\n",
       " 25998715,\n",
       " 29317555,\n",
       " 22586816,\n",
       " 18676667,\n",
       " 18108625,\n",
       " 46588883,\n",
       " 41973770,\n",
       " 38906250,\n",
       " 10766129,\n",
       " 9411164,\n",
       " 43438691,\n",
       " 40164062,\n",
       " 34040281]"
      ]
     },
     "execution_count": 4,
     "metadata": {},
     "output_type": "execute_result"
    }
   ],
   "source": [
    "weights"
   ]
  },
  {
   "cell_type": "code",
   "execution_count": 5,
   "id": "proud-gibson",
   "metadata": {
    "ExecuteTime": {
     "end_time": "2021-02-11T06:33:05.653875Z",
     "start_time": "2021-02-11T06:33:05.649047Z"
    }
   },
   "outputs": [
    {
     "data": {
      "text/plain": [
       "[169488031,\n",
       " 140262926,\n",
       " 483734912,\n",
       " 491097912,\n",
       " 303416095,\n",
       " 477302881,\n",
       " 436649602,\n",
       " 301362139,\n",
       " 133935212,\n",
       " 221594758,\n",
       " 285644467,\n",
       " 456356356,\n",
       " 489302486,\n",
       " 330014738,\n",
       " 491167636,\n",
       " 278911505,\n",
       " 246558412,\n",
       " 298681929,\n",
       " 399531626,\n",
       " 428923627,\n",
       " 336739401,\n",
       " 220736391,\n",
       " 432335041,\n",
       " 234327908,\n",
       " 309593963,\n",
       " 175556420,\n",
       " 194178727,\n",
       " 160409810,\n",
       " 65651368,\n",
       " 202784888,\n",
       " 204529693,\n",
       " 406762738,\n",
       " 261989333,\n",
       " 400251899,\n",
       " 352098674,\n",
       " 328003137,\n",
       " 425021683,\n",
       " 53544692,\n",
       " 158420987,\n",
       " 281420743,\n",
       " 474052893,\n",
       " 105973222,\n",
       " 485972546,\n",
       " 129075676,\n",
       " 477194324,\n",
       " 386877797,\n",
       " 349982424,\n",
       " 305984825,\n",
       " 406748303,\n",
       " 249876999,\n",
       " 161794564,\n",
       " 203060787,\n",
       " 326714191,\n",
       " 380247766,\n",
       " 466922220,\n",
       " 420421280,\n",
       " 290201407,\n",
       " 252978376,\n",
       " 385829634,\n",
       " 450539762]"
      ]
     },
     "execution_count": 5,
     "metadata": {},
     "output_type": "execute_result"
    }
   ],
   "source": [
    "profits"
   ]
  },
  {
   "cell_type": "code",
   "execution_count": 6,
   "id": "together-commissioner",
   "metadata": {
    "ExecuteTime": {
     "end_time": "2021-02-11T06:33:05.660330Z",
     "start_time": "2021-02-11T06:33:05.656063Z"
    }
   },
   "outputs": [
    {
     "data": {
      "text/plain": [
       "[0,\n",
       " 0,\n",
       " 1,\n",
       " 1,\n",
       " 1,\n",
       " 1,\n",
       " 1,\n",
       " 1,\n",
       " 0,\n",
       " 0,\n",
       " 1,\n",
       " 1,\n",
       " 1,\n",
       " 1,\n",
       " 1,\n",
       " 1,\n",
       " 0,\n",
       " 0,\n",
       " 1,\n",
       " 1,\n",
       " 1,\n",
       " 0,\n",
       " 1,\n",
       " 1,\n",
       " 0,\n",
       " 0,\n",
       " 0,\n",
       " 0,\n",
       " 0,\n",
       " 0,\n",
       " 1,\n",
       " 1,\n",
       " 1,\n",
       " 1,\n",
       " 0,\n",
       " 0,\n",
       " 1,\n",
       " 0,\n",
       " 0,\n",
       " 0,\n",
       " 1,\n",
       " 0,\n",
       " 1,\n",
       " 0,\n",
       " 1,\n",
       " 1,\n",
       " 1,\n",
       " 1,\n",
       " 1,\n",
       " 1,\n",
       " 0,\n",
       " 1,\n",
       " 0,\n",
       " 0,\n",
       " 1,\n",
       " 1,\n",
       " 1,\n",
       " 0,\n",
       " 0,\n",
       " 1]"
      ]
     },
     "execution_count": 6,
     "metadata": {},
     "output_type": "execute_result"
    }
   ],
   "source": [
    "optimal_solution"
   ]
  },
  {
   "cell_type": "code",
   "execution_count": 7,
   "id": "abstract-staff",
   "metadata": {
    "ExecuteTime": {
     "end_time": "2021-02-11T06:33:05.667232Z",
     "start_time": "2021-02-11T06:33:05.662538Z"
    }
   },
   "outputs": [
    {
     "data": {
      "text/plain": [
       "13323209245"
      ]
     },
     "execution_count": 7,
     "metadata": {},
     "output_type": "execute_result"
    }
   ],
   "source": [
    "optimal_profits"
   ]
  },
  {
   "cell_type": "markdown",
   "id": "wired-sullivan",
   "metadata": {},
   "source": [
    "# Actual Computation"
   ]
  },
  {
   "cell_type": "code",
   "execution_count": 8,
   "id": "advisory-weight",
   "metadata": {
    "ExecuteTime": {
     "end_time": "2021-02-11T06:33:05.675963Z",
     "start_time": "2021-02-11T06:33:05.672494Z"
    }
   },
   "outputs": [],
   "source": [
    "def generate_candidates(solution_length, num_of_candidates):\n",
    "    return [util.join_to_str([1 if random.uniform(0, 1) >= 0.5 else 0 for i in range(solution_length)]) for j in range(num_of_candidates)]"
   ]
  },
  {
   "cell_type": "code",
   "execution_count": 9,
   "id": "suitable-treasurer",
   "metadata": {
    "ExecuteTime": {
     "end_time": "2021-02-11T06:33:05.682404Z",
     "start_time": "2021-02-11T06:33:05.678449Z"
    }
   },
   "outputs": [],
   "source": [
    "def get_profits(s, c, w, p):\n",
    "    s_num = util.split_to_num(s)\n",
    "    total_weights = np.multiply(s_num, w).sum()\n",
    "    if total_weights <= c:\n",
    "        return np.multiply(s_num, p).sum()\n",
    "    else:\n",
    "        return 0"
   ]
  },
  {
   "cell_type": "code",
   "execution_count": 10,
   "id": "boolean-round",
   "metadata": {
    "ExecuteTime": {
     "end_time": "2021-02-11T06:33:05.688809Z",
     "start_time": "2021-02-11T06:33:05.684935Z"
    }
   },
   "outputs": [],
   "source": [
    "def get_winner(item_1, item_2, c, w, p):\n",
    "    return item_1 if get_profits(item_1, c, w, p) > get_profits(item_2, c, w, p) else item_2"
   ]
  },
  {
   "cell_type": "code",
   "execution_count": 11,
   "id": "joined-craft",
   "metadata": {
    "ExecuteTime": {
     "end_time": "2021-02-11T06:33:05.694746Z",
     "start_time": "2021-02-11T06:33:05.691265Z"
    }
   },
   "outputs": [],
   "source": [
    "def get_child(item_1, item_2):\n",
    "    indices = random.sample(range(len(item_1)+1), 2)\n",
    "    indices.sort()\n",
    "    [start_index, end_index] = indices\n",
    "    return item_1[0:start_index] + item_2[start_index:end_index] + item_1[end_index:]"
   ]
  },
  {
   "cell_type": "code",
   "execution_count": 12,
   "id": "strange-theology",
   "metadata": {
    "ExecuteTime": {
     "end_time": "2021-02-11T06:33:05.700925Z",
     "start_time": "2021-02-11T06:33:05.696554Z"
    }
   },
   "outputs": [],
   "source": [
    "def mutate_word(word, chance):\n",
    "    new_word = ''\n",
    "    for char in word:\n",
    "        if (random.uniform(0, 1) < chance):\n",
    "            new_word += '0' if char is '1' else '1'\n",
    "        else:\n",
    "            new_word += char\n",
    "    return new_word"
   ]
  },
  {
   "cell_type": "code",
   "execution_count": 13,
   "id": "sixth-handling",
   "metadata": {
    "ExecuteTime": {
     "end_time": "2021-02-11T06:33:05.713258Z",
     "start_time": "2021-02-11T06:33:05.703316Z"
    }
   },
   "outputs": [],
   "source": [
    "def knapsack_genetic(c, w, p, generations):\n",
    "    generation_count = 0\n",
    "    best_answer_so_far = ''\n",
    "    best_answer_score_so_far = 0\n",
    "    \n",
    "    # number of generations\n",
    "    while generation_count < generations:\n",
    "        generation_count += 1\n",
    "        \n",
    "        # create first generation with 10 candidates\n",
    "        while True:\n",
    "            candidates = generate_candidates(len(w), 10)\n",
    "            scores = [get_profits(candidate, c, w, p) for candidate in candidates]\n",
    "            # to get at least 1 non-zero profit candidate\n",
    "            if (max(scores) > 0):\n",
    "                break\n",
    "\n",
    "        # retain the highest value item\n",
    "        max_item_score = max(scores)\n",
    "        max_item_index = scores.index(max_item_score)\n",
    "        max_item = candidates[max_item_index]\n",
    "        next_gen_candidates = []\n",
    "        next_gen_candidates.append(max_item)\n",
    "\n",
    "        # tournament\n",
    "        while len(next_gen_candidates) < len(candidates):\n",
    "            [item_1, item_2] = random.sample(candidates, 2)\n",
    "            [item_3, item_4] = random.sample(candidates, 2)\n",
    "            winner_1 = get_winner(item_1, item_2, c, w, p)\n",
    "            winner_2 = get_winner(item_3, item_4, c, w, p)\n",
    "            child = get_child(winner_1, winner_2)\n",
    "            next_gen_candidates.append(child)\n",
    "\n",
    "        # mutation - with chance of 1%\n",
    "        mutated_next_gen_candidates = [mutate_word(candidate, 0.01) for candidate in next_gen_candidates]\n",
    "\n",
    "        # determine best score\n",
    "        mutated_next_gen_scores = [get_profits(candidate, c, w, p) for candidate in mutated_next_gen_candidates]\n",
    "        max_item_score = max(scores)\n",
    "        max_item_index = scores.index(max_item_score)\n",
    "        max_item = candidates[max_item_index]\n",
    "        if (max_item_score > best_answer_score_so_far):\n",
    "            best_answer_so_far = max_item\n",
    "            best_answer_score_so_far = max_item_score\n",
    "\n",
    "    return best_answer_score_so_far, best_answer_so_far"
   ]
  },
  {
   "cell_type": "code",
   "execution_count": 14,
   "id": "metric-demonstration",
   "metadata": {
    "ExecuteTime": {
     "end_time": "2021-02-11T07:13:39.025879Z",
     "start_time": "2021-02-11T06:33:05.715173Z"
    }
   },
   "outputs": [],
   "source": [
    "computed_profits, s = knapsack_genetic(capacity, weights, profits, 1000000)\n",
    "computed_solution = util.split_to_num(s)"
   ]
  },
  {
   "cell_type": "code",
   "execution_count": 15,
   "id": "consolidated-terminology",
   "metadata": {
    "ExecuteTime": {
     "end_time": "2021-02-11T07:13:39.031868Z",
     "start_time": "2021-02-11T07:13:39.027918Z"
    }
   },
   "outputs": [
    {
     "name": "stdout",
     "output_type": "stream",
     "text": [
      "optiomal profits: 13323209245\n",
      "computed_profits: 12084159837\n"
     ]
    }
   ],
   "source": [
    "print(f'optiomal profits: {optimal_profits}')\n",
    "print(f'computed_profits: {computed_profits}')"
   ]
  },
  {
   "cell_type": "code",
   "execution_count": 16,
   "id": "different-boundary",
   "metadata": {
    "ExecuteTime": {
     "end_time": "2021-02-11T07:13:39.042073Z",
     "start_time": "2021-02-11T07:13:39.038653Z"
    }
   },
   "outputs": [
    {
     "name": "stdout",
     "output_type": "stream",
     "text": [
      "optimal_solution: \n",
      "[0, 0, 1, 1, 1, 1, 1, 1, 0, 0, 1, 1, 1, 1, 1, 1, 0, 0, 1, 1, 1, 0, 1, 1, 0, 0, 0, 0, 0, 0, 1, 1, 1, 1, 0, 0, 1, 0, 0, 0, 1, 0, 1, 0, 1, 1, 1, 1, 1, 1, 0, 1, 0, 0, 1, 1, 1, 0, 0, 1]\n",
      "computed_solution: \n",
      "[1, 0, 1, 1, 1, 1, 1, 1, 0, 0, 1, 0, 0, 0, 1, 1, 0, 0, 1, 1, 0, 0, 1, 0, 0, 1, 1, 0, 0, 0, 1, 0, 1, 1, 1, 0, 1, 0, 0, 0, 1, 0, 1, 0, 1, 0, 1, 0, 1, 1, 0, 0, 0, 1, 1, 1, 1, 1, 1, 1]\n"
     ]
    }
   ],
   "source": [
    "print(f'optimal_solution: \\n{optimal_solution}')\n",
    "print(f'computed_solution: \\n{computed_solution}')"
   ]
  },
  {
   "cell_type": "code",
   "execution_count": null,
   "id": "heard-lafayette",
   "metadata": {},
   "outputs": [],
   "source": []
  }
 ],
 "metadata": {
  "kernelspec": {
   "display_name": "Python 3",
   "language": "python",
   "name": "python3"
  },
  "language_info": {
   "codemirror_mode": {
    "name": "ipython",
    "version": 3
   },
   "file_extension": ".py",
   "mimetype": "text/x-python",
   "name": "python",
   "nbconvert_exporter": "python",
   "pygments_lexer": "ipython3",
   "version": "3.7.3"
  },
  "varInspector": {
   "cols": {
    "lenName": 16,
    "lenType": 16,
    "lenVar": 40
   },
   "kernels_config": {
    "python": {
     "delete_cmd_postfix": "",
     "delete_cmd_prefix": "del ",
     "library": "var_list.py",
     "varRefreshCmd": "print(var_dic_list())"
    },
    "r": {
     "delete_cmd_postfix": ") ",
     "delete_cmd_prefix": "rm(",
     "library": "var_list.r",
     "varRefreshCmd": "cat(var_dic_list()) "
    }
   },
   "types_to_exclude": [
    "module",
    "function",
    "builtin_function_or_method",
    "instance",
    "_Feature"
   ],
   "window_display": false
  }
 },
 "nbformat": 4,
 "nbformat_minor": 5
}
