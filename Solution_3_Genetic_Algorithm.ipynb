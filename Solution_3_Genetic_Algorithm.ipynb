{
 "cells": [
  {
   "cell_type": "markdown",
   "id": "proprietary-peter",
   "metadata": {},
   "source": [
    "# Reading data from datasets"
   ]
  },
  {
   "cell_type": "code",
   "execution_count": 1,
   "id": "neural-passport",
   "metadata": {
    "ExecuteTime": {
     "end_time": "2021-02-05T06:30:26.025899Z",
     "start_time": "2021-02-05T06:30:25.935312Z"
    }
   },
   "outputs": [],
   "source": [
    "import util\n",
    "import numpy as np\n",
    "import random"
   ]
  },
  {
   "cell_type": "code",
   "execution_count": 2,
   "id": "noticed-carrier",
   "metadata": {
    "ExecuteTime": {
     "end_time": "2021-02-05T06:30:26.032748Z",
     "start_time": "2021-02-05T06:30:26.029087Z"
    }
   },
   "outputs": [],
   "source": [
    "# Available datasets: p01 to p08, c08 to c11\n",
    "[[capacity], weights, profits, optimal_solution] = util.read_data('p01')\n",
    "optimal_profits = np.multiply(optimal_solution, profits).sum()"
   ]
  },
  {
   "cell_type": "code",
   "execution_count": 3,
   "id": "increased-genesis",
   "metadata": {
    "ExecuteTime": {
     "end_time": "2021-02-05T06:30:26.043945Z",
     "start_time": "2021-02-05T06:30:26.035357Z"
    }
   },
   "outputs": [
    {
     "data": {
      "text/plain": [
       "165"
      ]
     },
     "execution_count": 3,
     "metadata": {},
     "output_type": "execute_result"
    }
   ],
   "source": [
    "capacity"
   ]
  },
  {
   "cell_type": "code",
   "execution_count": 4,
   "id": "elementary-blank",
   "metadata": {
    "ExecuteTime": {
     "end_time": "2021-02-05T06:30:26.050247Z",
     "start_time": "2021-02-05T06:30:26.045994Z"
    }
   },
   "outputs": [
    {
     "data": {
      "text/plain": [
       "[23, 31, 29, 44, 53, 38, 63, 85, 89, 82]"
      ]
     },
     "execution_count": 4,
     "metadata": {},
     "output_type": "execute_result"
    }
   ],
   "source": [
    "weights"
   ]
  },
  {
   "cell_type": "code",
   "execution_count": 5,
   "id": "proud-gibson",
   "metadata": {
    "ExecuteTime": {
     "end_time": "2021-02-05T06:30:26.055748Z",
     "start_time": "2021-02-05T06:30:26.052562Z"
    }
   },
   "outputs": [
    {
     "data": {
      "text/plain": [
       "[92, 57, 49, 68, 60, 43, 67, 84, 87, 72]"
      ]
     },
     "execution_count": 5,
     "metadata": {},
     "output_type": "execute_result"
    }
   ],
   "source": [
    "profits"
   ]
  },
  {
   "cell_type": "code",
   "execution_count": 6,
   "id": "together-commissioner",
   "metadata": {
    "ExecuteTime": {
     "end_time": "2021-02-05T06:30:26.061454Z",
     "start_time": "2021-02-05T06:30:26.057732Z"
    }
   },
   "outputs": [
    {
     "data": {
      "text/plain": [
       "[1, 1, 1, 1, 0, 1, 0, 0, 0, 0]"
      ]
     },
     "execution_count": 6,
     "metadata": {},
     "output_type": "execute_result"
    }
   ],
   "source": [
    "optimal_solution"
   ]
  },
  {
   "cell_type": "code",
   "execution_count": 7,
   "id": "abstract-staff",
   "metadata": {
    "ExecuteTime": {
     "end_time": "2021-02-05T06:30:26.070155Z",
     "start_time": "2021-02-05T06:30:26.066123Z"
    }
   },
   "outputs": [
    {
     "data": {
      "text/plain": [
       "309"
      ]
     },
     "execution_count": 7,
     "metadata": {},
     "output_type": "execute_result"
    }
   ],
   "source": [
    "optimal_profits"
   ]
  },
  {
   "cell_type": "markdown",
   "id": "wired-sullivan",
   "metadata": {},
   "source": [
    "# Actual Computation"
   ]
  },
  {
   "cell_type": "code",
   "execution_count": 8,
   "id": "advisory-weight",
   "metadata": {
    "ExecuteTime": {
     "end_time": "2021-02-05T06:30:26.077265Z",
     "start_time": "2021-02-05T06:30:26.072960Z"
    }
   },
   "outputs": [],
   "source": [
    "def generate_candidates(solution_length, num_of_candidates):\n",
    "    return [util.join_to_str([1 if random.uniform(0, 1) >= 0.5 else 0 for i in range(solution_length)]) for j in range(num_of_candidates)]"
   ]
  },
  {
   "cell_type": "code",
   "execution_count": 9,
   "id": "sixth-handling",
   "metadata": {
    "ExecuteTime": {
     "end_time": "2021-02-05T06:30:26.083615Z",
     "start_time": "2021-02-05T06:30:26.079796Z"
    }
   },
   "outputs": [],
   "source": [
    "def knapsack_genetic(c, w, p):\n",
    "    # create first generation with 10 candidates\n",
    "    candidates = generate_candidates(len(w), 10)\n",
    "    scores = [np.multiply(util.split_to_num(candidate), profits).sum() for candidate in candidates]\n",
    "    print(scores)\n",
    "    return '', ''"
   ]
  },
  {
   "cell_type": "code",
   "execution_count": 10,
   "id": "metric-demonstration",
   "metadata": {
    "ExecuteTime": {
     "end_time": "2021-02-05T06:30:26.089644Z",
     "start_time": "2021-02-05T06:30:26.085899Z"
    }
   },
   "outputs": [
    {
     "name": "stdout",
     "output_type": "stream",
     "text": [
      "[403, 252, 286, 343, 216, 301, 470, 466, 395, 349]\n"
     ]
    }
   ],
   "source": [
    "computed_profits, s = knapsack_genetic(capacity, weights, profits)\n",
    "# computed_solution = util.split_to_num(s)"
   ]
  },
  {
   "cell_type": "code",
   "execution_count": 11,
   "id": "consolidated-terminology",
   "metadata": {
    "ExecuteTime": {
     "end_time": "2021-02-05T06:30:26.094565Z",
     "start_time": "2021-02-05T06:30:26.092155Z"
    }
   },
   "outputs": [],
   "source": [
    "# print(f'optiomal profits: {optimal_profits}')\n",
    "# print(f'computed_profits: {computed_profits}')"
   ]
  },
  {
   "cell_type": "code",
   "execution_count": 12,
   "id": "different-boundary",
   "metadata": {
    "ExecuteTime": {
     "end_time": "2021-02-05T06:30:26.099454Z",
     "start_time": "2021-02-05T06:30:26.097003Z"
    }
   },
   "outputs": [],
   "source": [
    "# print(f'optimal_solution: \\n{optimal_solution}')\n",
    "# print(f'computed_solution: \\n{computed_solution}')"
   ]
  },
  {
   "cell_type": "code",
   "execution_count": 13,
   "id": "focal-feature",
   "metadata": {
    "ExecuteTime": {
     "end_time": "2021-02-05T06:30:26.106742Z",
     "start_time": "2021-02-05T06:30:26.102031Z"
    }
   },
   "outputs": [
    {
     "data": {
      "text/plain": [
       "0.7469585139841368"
      ]
     },
     "execution_count": 13,
     "metadata": {},
     "output_type": "execute_result"
    }
   ],
   "source": [
    "random.uniform(0, 1)"
   ]
  },
  {
   "cell_type": "code",
   "execution_count": 14,
   "id": "important-attribute",
   "metadata": {
    "ExecuteTime": {
     "end_time": "2021-02-05T06:30:26.113419Z",
     "start_time": "2021-02-05T06:30:26.108799Z"
    }
   },
   "outputs": [
    {
     "data": {
      "text/plain": [
       "'012'"
      ]
     },
     "execution_count": 14,
     "metadata": {},
     "output_type": "execute_result"
    }
   ],
   "source": [
    "''.join(str(i) for i in [0, 1, 2])"
   ]
  },
  {
   "cell_type": "code",
   "execution_count": null,
   "id": "relative-copper",
   "metadata": {},
   "outputs": [],
   "source": []
  }
 ],
 "metadata": {
  "kernelspec": {
   "display_name": "Python 3",
   "language": "python",
   "name": "python3"
  },
  "language_info": {
   "codemirror_mode": {
    "name": "ipython",
    "version": 3
   },
   "file_extension": ".py",
   "mimetype": "text/x-python",
   "name": "python",
   "nbconvert_exporter": "python",
   "pygments_lexer": "ipython3",
   "version": "3.7.3"
  },
  "varInspector": {
   "cols": {
    "lenName": 16,
    "lenType": 16,
    "lenVar": 40
   },
   "kernels_config": {
    "python": {
     "delete_cmd_postfix": "",
     "delete_cmd_prefix": "del ",
     "library": "var_list.py",
     "varRefreshCmd": "print(var_dic_list())"
    },
    "r": {
     "delete_cmd_postfix": ") ",
     "delete_cmd_prefix": "rm(",
     "library": "var_list.r",
     "varRefreshCmd": "cat(var_dic_list()) "
    }
   },
   "types_to_exclude": [
    "module",
    "function",
    "builtin_function_or_method",
    "instance",
    "_Feature"
   ],
   "window_display": false
  }
 },
 "nbformat": 4,
 "nbformat_minor": 5
}
