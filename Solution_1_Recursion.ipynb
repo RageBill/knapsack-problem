{
 "cells": [
  {
   "cell_type": "markdown",
   "id": "proprietary-peter",
   "metadata": {},
   "source": [
    "# Reading data from datasets"
   ]
  },
  {
   "cell_type": "code",
   "execution_count": 1,
   "id": "neural-passport",
   "metadata": {},
   "outputs": [],
   "source": [
    "from util import read_data\n",
    "import numpy as np"
   ]
  },
  {
   "cell_type": "code",
   "execution_count": 2,
   "id": "noticed-carrier",
   "metadata": {},
   "outputs": [],
   "source": [
    "# Available datasets: p01 to p08, c08 to c11\n",
    "[[capacity], weights, profits, optimal_solution] = read_data('p01')\n",
    "optimal_profits = np.multiply(optimal_solution, profits).sum()"
   ]
  },
  {
   "cell_type": "code",
   "execution_count": 3,
   "id": "increased-genesis",
   "metadata": {},
   "outputs": [
    {
     "data": {
      "text/plain": [
       "165"
      ]
     },
     "execution_count": 3,
     "metadata": {},
     "output_type": "execute_result"
    }
   ],
   "source": [
    "capacity"
   ]
  },
  {
   "cell_type": "code",
   "execution_count": 4,
   "id": "elementary-blank",
   "metadata": {},
   "outputs": [
    {
     "data": {
      "text/plain": [
       "[23, 31, 29, 44, 53, 38, 63, 85, 89, 82]"
      ]
     },
     "execution_count": 4,
     "metadata": {},
     "output_type": "execute_result"
    }
   ],
   "source": [
    "weights"
   ]
  },
  {
   "cell_type": "code",
   "execution_count": 5,
   "id": "proud-gibson",
   "metadata": {},
   "outputs": [
    {
     "data": {
      "text/plain": [
       "[92, 57, 49, 68, 60, 43, 67, 84, 87, 72]"
      ]
     },
     "execution_count": 5,
     "metadata": {},
     "output_type": "execute_result"
    }
   ],
   "source": [
    "profits"
   ]
  },
  {
   "cell_type": "code",
   "execution_count": 6,
   "id": "together-commissioner",
   "metadata": {},
   "outputs": [
    {
     "data": {
      "text/plain": [
       "[1, 1, 1, 1, 0, 1, 0, 0, 0, 0]"
      ]
     },
     "execution_count": 6,
     "metadata": {},
     "output_type": "execute_result"
    }
   ],
   "source": [
    "optimal_solution"
   ]
  },
  {
   "cell_type": "code",
   "execution_count": 7,
   "id": "statutory-infection",
   "metadata": {},
   "outputs": [
    {
     "data": {
      "text/plain": [
       "309"
      ]
     },
     "execution_count": 7,
     "metadata": {},
     "output_type": "execute_result"
    }
   ],
   "source": [
    "optimal_profits"
   ]
  },
  {
   "cell_type": "markdown",
   "id": "infrared-conducting",
   "metadata": {},
   "source": [
    "# Actual Computation"
   ]
  },
  {
   "cell_type": "code",
   "execution_count": 8,
   "id": "sixth-handling",
   "metadata": {},
   "outputs": [],
   "source": [
    "def knapsack_recursion(c, w, p, s):\n",
    "    if (c <= 0):\n",
    "        return 0, [0 for _ in range(len(w))]\n",
    "    \n",
    "    if (len(w) == 0):\n",
    "        return 0, s.copy()\n",
    "    \n",
    "    exclude_last_item, exclude_last_item_s = knapsack_recursion(c, w[:-1], p[:-1], s.copy())\n",
    "    exclude_last_item_s.append(0)\n",
    "    \n",
    "    if (w[-1] > c):\n",
    "        return exclude_last_item, exclude_last_item_s.copy()\n",
    "    \n",
    "    include_last_item, include_last_item_s = knapsack_recursion(c - w[-1], w[:-1], p[:-1], s.copy())\n",
    "    include_last_item += p[-1]\n",
    "    include_last_item_s.append(1)\n",
    "    \n",
    "    if (include_last_item > exclude_last_item):\n",
    "        return include_last_item, include_last_item_s.copy()\n",
    "    else:\n",
    "        return exclude_last_item, exclude_last_item_s.copy()"
   ]
  },
  {
   "cell_type": "code",
   "execution_count": 9,
   "id": "educational-transsexual",
   "metadata": {},
   "outputs": [],
   "source": [
    "ans, s = knapsack_recursion(capacity, weights, profits, [])"
   ]
  },
  {
   "cell_type": "code",
   "execution_count": 10,
   "id": "sunset-english",
   "metadata": {},
   "outputs": [
    {
     "data": {
      "text/plain": [
       "309"
      ]
     },
     "execution_count": 10,
     "metadata": {},
     "output_type": "execute_result"
    }
   ],
   "source": [
    "ans"
   ]
  },
  {
   "cell_type": "code",
   "execution_count": 11,
   "id": "suspended-reply",
   "metadata": {},
   "outputs": [
    {
     "data": {
      "text/plain": [
       "[1, 1, 1, 1, 0, 1, 0, 0, 0, 0]"
      ]
     },
     "execution_count": 11,
     "metadata": {},
     "output_type": "execute_result"
    }
   ],
   "source": [
    "s"
   ]
  }
 ],
 "metadata": {
  "kernelspec": {
   "display_name": "Python 3",
   "language": "python",
   "name": "python3"
  },
  "language_info": {
   "codemirror_mode": {
    "name": "ipython",
    "version": 3
   },
   "file_extension": ".py",
   "mimetype": "text/x-python",
   "name": "python",
   "nbconvert_exporter": "python",
   "pygments_lexer": "ipython3",
   "version": "3.7.3"
  },
  "varInspector": {
   "cols": {
    "lenName": 16,
    "lenType": 16,
    "lenVar": 40
   },
   "kernels_config": {
    "python": {
     "delete_cmd_postfix": "",
     "delete_cmd_prefix": "del ",
     "library": "var_list.py",
     "varRefreshCmd": "print(var_dic_list())"
    },
    "r": {
     "delete_cmd_postfix": ") ",
     "delete_cmd_prefix": "rm(",
     "library": "var_list.r",
     "varRefreshCmd": "cat(var_dic_list()) "
    }
   },
   "types_to_exclude": [
    "module",
    "function",
    "builtin_function_or_method",
    "instance",
    "_Feature"
   ],
   "window_display": false
  }
 },
 "nbformat": 4,
 "nbformat_minor": 5
}
