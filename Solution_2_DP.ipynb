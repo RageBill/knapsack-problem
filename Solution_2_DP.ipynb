{
 "cells": [
  {
   "cell_type": "markdown",
   "id": "proprietary-peter",
   "metadata": {},
   "source": [
    "# Reading data from datasets"
   ]
  },
  {
   "cell_type": "code",
   "execution_count": 1,
   "id": "neural-passport",
   "metadata": {
    "ExecuteTime": {
     "end_time": "2021-02-05T10:12:50.100127Z",
     "start_time": "2021-02-05T10:12:50.011824Z"
    }
   },
   "outputs": [],
   "source": [
    "import util\n",
    "import numpy as np"
   ]
  },
  {
   "cell_type": "code",
   "execution_count": 2,
   "id": "noticed-carrier",
   "metadata": {
    "ExecuteTime": {
     "end_time": "2021-02-05T10:12:50.108259Z",
     "start_time": "2021-02-05T10:12:50.103564Z"
    }
   },
   "outputs": [],
   "source": [
    "# Available datasets: p01 to p08, c08 to c11\n",
    "[[capacity], weights, profits, optimal_solution] = util.read_data('p02')\n",
    "optimal_profits = np.multiply(optimal_solution, profits).sum()"
   ]
  },
  {
   "cell_type": "code",
   "execution_count": 3,
   "id": "increased-genesis",
   "metadata": {
    "ExecuteTime": {
     "end_time": "2021-02-05T10:12:50.119757Z",
     "start_time": "2021-02-05T10:12:50.110865Z"
    }
   },
   "outputs": [
    {
     "data": {
      "text/plain": [
       "26"
      ]
     },
     "execution_count": 3,
     "metadata": {},
     "output_type": "execute_result"
    }
   ],
   "source": [
    "capacity"
   ]
  },
  {
   "cell_type": "code",
   "execution_count": 4,
   "id": "elementary-blank",
   "metadata": {
    "ExecuteTime": {
     "end_time": "2021-02-05T10:12:50.126026Z",
     "start_time": "2021-02-05T10:12:50.121942Z"
    }
   },
   "outputs": [
    {
     "data": {
      "text/plain": [
       "[12, 7, 11, 8, 9]"
      ]
     },
     "execution_count": 4,
     "metadata": {},
     "output_type": "execute_result"
    }
   ],
   "source": [
    "weights"
   ]
  },
  {
   "cell_type": "code",
   "execution_count": 5,
   "id": "proud-gibson",
   "metadata": {
    "ExecuteTime": {
     "end_time": "2021-02-05T10:12:50.131992Z",
     "start_time": "2021-02-05T10:12:50.128401Z"
    }
   },
   "outputs": [
    {
     "data": {
      "text/plain": [
       "[24, 13, 23, 15, 16]"
      ]
     },
     "execution_count": 5,
     "metadata": {},
     "output_type": "execute_result"
    }
   ],
   "source": [
    "profits"
   ]
  },
  {
   "cell_type": "code",
   "execution_count": 6,
   "id": "together-commissioner",
   "metadata": {
    "ExecuteTime": {
     "end_time": "2021-02-05T10:12:50.139374Z",
     "start_time": "2021-02-05T10:12:50.134332Z"
    }
   },
   "outputs": [
    {
     "data": {
      "text/plain": [
       "[0, 1, 1, 1, 0]"
      ]
     },
     "execution_count": 6,
     "metadata": {},
     "output_type": "execute_result"
    }
   ],
   "source": [
    "optimal_solution"
   ]
  },
  {
   "cell_type": "code",
   "execution_count": 7,
   "id": "abstract-staff",
   "metadata": {
    "ExecuteTime": {
     "end_time": "2021-02-05T10:12:50.148388Z",
     "start_time": "2021-02-05T10:12:50.143489Z"
    }
   },
   "outputs": [
    {
     "data": {
      "text/plain": [
       "51"
      ]
     },
     "execution_count": 7,
     "metadata": {},
     "output_type": "execute_result"
    }
   ],
   "source": [
    "optimal_profits"
   ]
  },
  {
   "cell_type": "markdown",
   "id": "wired-sullivan",
   "metadata": {},
   "source": [
    "# Actual Computation"
   ]
  },
  {
   "cell_type": "code",
   "execution_count": 8,
   "id": "sixth-handling",
   "metadata": {
    "ExecuteTime": {
     "end_time": "2021-02-05T10:12:50.161064Z",
     "start_time": "2021-02-05T10:12:50.151193Z"
    }
   },
   "outputs": [],
   "source": [
    "def knapsack_dp(c, w, p, s):\n",
    "    lookup = [[(-1, '') for i in range(len(w))] for j in range(c)]\n",
    "    \n",
    "    def knapsack(c, w, p ,s):\n",
    "        if (c <= 0):\n",
    "            lookup[c-1][len(w)-1] = 0, '0' * len(w)\n",
    "            return lookup[c-1][len(w)-1]\n",
    "\n",
    "        if (len(w) == 0):\n",
    "            lookup[c-1][len(w)-1] = 0, s\n",
    "            return lookup[c-1][len(w)-1]\n",
    "\n",
    "        lookup_profits, lookup_s = lookup[c-1][len(w)-1]\n",
    "        if lookup_profits >= 0:\n",
    "            return lookup_profits, lookup_s\n",
    "\n",
    "        exclude_last_item, exclude_last_item_s = knapsack(c, w[:-1], p[:-1], s)\n",
    "        exclude_last_item_s += '0'\n",
    "\n",
    "        if (w[-1] > c):\n",
    "            lookup[c-1][len(w)-1] = exclude_last_item, exclude_last_item_s\n",
    "            return lookup[c-1][len(w)-1]\n",
    "\n",
    "        include_last_item, include_last_item_s = knapsack(c - w[-1], w[:-1], p[:-1], s)\n",
    "        include_last_item += p[-1]\n",
    "        include_last_item_s += '1'\n",
    "\n",
    "        if (include_last_item > exclude_last_item):\n",
    "            lookup[c-1][len(w)-1] = include_last_item, include_last_item_s\n",
    "            return lookup[c-1][len(w)-1]\n",
    "        else:\n",
    "            lookup[c-1][len(w)-1] = exclude_last_item, exclude_last_item_s\n",
    "            return lookup[c-1][len(w)-1]\n",
    "    \n",
    "    solution = knapsack(c, w, p, s)\n",
    "    print(lookup)\n",
    "    return solution"
   ]
  },
  {
   "cell_type": "code",
   "execution_count": 9,
   "id": "metric-demonstration",
   "metadata": {
    "ExecuteTime": {
     "end_time": "2021-02-05T10:12:50.167558Z",
     "start_time": "2021-02-05T10:12:50.163177Z"
    }
   },
   "outputs": [
    {
     "name": "stdout",
     "output_type": "stream",
     "text": [
      "[[(-1, ''), (-1, ''), (-1, ''), (-1, ''), (-1, '')], [(0, '0'), (-1, ''), (-1, ''), (-1, ''), (0, '')], [(-1, ''), (-1, ''), (-1, ''), (-1, ''), (0, '')], [(-1, ''), (-1, ''), (-1, ''), (-1, ''), (-1, '')], [(-1, ''), (-1, ''), (-1, ''), (-1, ''), (0, '')], [(0, '0'), (0, '00'), (-1, ''), (-1, ''), (0, '')], [(0, '0'), (13, '01'), (-1, ''), (-1, ''), (0, '')], [(0, '0'), (-1, ''), (-1, ''), (-1, ''), (0, '')], [(0, '0'), (13, '01'), (13, '010'), (-1, ''), (0, '')], [(0, '0'), (-1, ''), (-1, ''), (-1, ''), (0, '')], [(0, '0'), (-1, ''), (-1, ''), (-1, ''), (0, '')], [(-1, ''), (-1, ''), (-1, ''), (-1, ''), (-1, '')], [(-1, ''), (-1, ''), (-1, ''), (-1, ''), (-1, '')], [(-1, ''), (-1, ''), (-1, ''), (-1, ''), (0, '')], [(24, '1'), (24, '10'), (-1, ''), (-1, ''), (0, '')], [(-1, ''), (-1, ''), (-1, ''), (-1, ''), (-1, '')], [(24, '1'), (24, '10'), (24, '100'), (28, '0101'), (0, '')], [(24, '1'), (24, '10'), (36, '011'), (-1, ''), (0, '')], [(24, '1'), (-1, ''), (-1, ''), (-1, ''), (0, '')], [(-1, ''), (-1, ''), (-1, ''), (-1, ''), (-1, '')], [(-1, ''), (-1, ''), (-1, ''), (-1, ''), (-1, '')], [(-1, ''), (-1, ''), (-1, ''), (-1, ''), (-1, '')], [(-1, ''), (-1, ''), (-1, ''), (-1, ''), (-1, '')], [(-1, ''), (-1, ''), (-1, ''), (-1, ''), (-1, '')], [(-1, ''), (-1, ''), (-1, ''), (-1, ''), (-1, '')], [(0, '0'), (37, '11'), (47, '101'), (51, '0111'), (51, '01110')]]\n"
     ]
    }
   ],
   "source": [
    "computed_profits, s = knapsack_dp(capacity, weights, profits, '')\n",
    "computed_solution = util.split_to_num(s)"
   ]
  },
  {
   "cell_type": "code",
   "execution_count": 10,
   "id": "consolidated-terminology",
   "metadata": {
    "ExecuteTime": {
     "end_time": "2021-02-05T10:12:50.173149Z",
     "start_time": "2021-02-05T10:12:50.169931Z"
    }
   },
   "outputs": [
    {
     "name": "stdout",
     "output_type": "stream",
     "text": [
      "optiomal profits: 51\n",
      "computed_profits: 51\n"
     ]
    }
   ],
   "source": [
    "print(f'optiomal profits: {optimal_profits}')\n",
    "print(f'computed_profits: {computed_profits}')"
   ]
  },
  {
   "cell_type": "code",
   "execution_count": 11,
   "id": "different-boundary",
   "metadata": {
    "ExecuteTime": {
     "end_time": "2021-02-05T10:12:50.179080Z",
     "start_time": "2021-02-05T10:12:50.175675Z"
    }
   },
   "outputs": [
    {
     "name": "stdout",
     "output_type": "stream",
     "text": [
      "optimal_solution: \n",
      "[0, 1, 1, 1, 0]\n",
      "computed_solution: \n",
      "[0, 1, 1, 1, 0]\n"
     ]
    }
   ],
   "source": [
    "print(f'optimal_solution: \\n{optimal_solution}')\n",
    "print(f'computed_solution: \\n{computed_solution}')"
   ]
  },
  {
   "cell_type": "code",
   "execution_count": null,
   "id": "focal-feature",
   "metadata": {},
   "outputs": [],
   "source": []
  }
 ],
 "metadata": {
  "kernelspec": {
   "display_name": "Python 3",
   "language": "python",
   "name": "python3"
  },
  "language_info": {
   "codemirror_mode": {
    "name": "ipython",
    "version": 3
   },
   "file_extension": ".py",
   "mimetype": "text/x-python",
   "name": "python",
   "nbconvert_exporter": "python",
   "pygments_lexer": "ipython3",
   "version": "3.7.3"
  },
  "varInspector": {
   "cols": {
    "lenName": 16,
    "lenType": 16,
    "lenVar": 40
   },
   "kernels_config": {
    "python": {
     "delete_cmd_postfix": "",
     "delete_cmd_prefix": "del ",
     "library": "var_list.py",
     "varRefreshCmd": "print(var_dic_list())"
    },
    "r": {
     "delete_cmd_postfix": ") ",
     "delete_cmd_prefix": "rm(",
     "library": "var_list.r",
     "varRefreshCmd": "cat(var_dic_list()) "
    }
   },
   "types_to_exclude": [
    "module",
    "function",
    "builtin_function_or_method",
    "instance",
    "_Feature"
   ],
   "window_display": false
  }
 },
 "nbformat": 4,
 "nbformat_minor": 5
}
