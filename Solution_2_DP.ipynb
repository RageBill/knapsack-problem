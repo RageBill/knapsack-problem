{
 "cells": [
  {
   "cell_type": "markdown",
   "id": "proprietary-peter",
   "metadata": {},
   "source": [
    "# Reading data from datasets"
   ]
  },
  {
   "cell_type": "code",
   "execution_count": 1,
   "id": "neural-passport",
   "metadata": {},
   "outputs": [],
   "source": [
    "from util import read_data\n",
    "from collections import defaultdict\n",
    "import numpy as np"
   ]
  },
  {
   "cell_type": "code",
   "execution_count": 2,
   "id": "noticed-carrier",
   "metadata": {},
   "outputs": [],
   "source": [
    "# Available datasets: p01 to p08, c08 to c11\n",
    "[[capacity], weights, profits, optimal_solution] = read_data('c08')\n",
    "optimal_profits = np.multiply(optimal_solution, profits).sum()"
   ]
  },
  {
   "cell_type": "code",
   "execution_count": 3,
   "id": "increased-genesis",
   "metadata": {},
   "outputs": [
    {
     "data": {
      "text/plain": [
       "6764180"
      ]
     },
     "execution_count": 3,
     "metadata": {},
     "output_type": "execute_result"
    }
   ],
   "source": [
    "capacity"
   ]
  },
  {
   "cell_type": "code",
   "execution_count": 4,
   "id": "elementary-blank",
   "metadata": {},
   "outputs": [
    {
     "data": {
      "text/plain": [
       "[382745,\n",
       " 799601,\n",
       " 909247,\n",
       " 729069,\n",
       " 467902,\n",
       " 44328,\n",
       " 34610,\n",
       " 698150,\n",
       " 823460,\n",
       " 903959,\n",
       " 853665,\n",
       " 551830,\n",
       " 610856,\n",
       " 670702,\n",
       " 488960,\n",
       " 951111,\n",
       " 323046,\n",
       " 446298,\n",
       " 931161,\n",
       " 31385,\n",
       " 496951,\n",
       " 264724,\n",
       " 224916,\n",
       " 169684,\n",
       " 321345,\n",
       " 800102,\n",
       " 64321,\n",
       " 552220]"
      ]
     },
     "execution_count": 4,
     "metadata": {},
     "output_type": "execute_result"
    }
   ],
   "source": [
    "weights"
   ]
  },
  {
   "cell_type": "code",
   "execution_count": 5,
   "id": "proud-gibson",
   "metadata": {},
   "outputs": [
    {
     "data": {
      "text/plain": [
       "[825594,\n",
       " 1677009,\n",
       " 1676628,\n",
       " 1523970,\n",
       " 943972,\n",
       " 97426,\n",
       " 69666,\n",
       " 1296457,\n",
       " 1679693,\n",
       " 1902996,\n",
       " 1844992,\n",
       " 1049289,\n",
       " 1252836,\n",
       " 1319836,\n",
       " 953277,\n",
       " 2067538,\n",
       " 675367,\n",
       " 853655,\n",
       " 1826027,\n",
       " 65731,\n",
       " 901489,\n",
       " 577243,\n",
       " 466257,\n",
       " 369261,\n",
       " 942881,\n",
       " 1599626,\n",
       " 725377,\n",
       " 1943209]"
      ]
     },
     "execution_count": 5,
     "metadata": {},
     "output_type": "execute_result"
    }
   ],
   "source": [
    "profits"
   ]
  },
  {
   "cell_type": "code",
   "execution_count": 6,
   "id": "together-commissioner",
   "metadata": {},
   "outputs": [
    {
     "data": {
      "text/plain": [
       "[1,\n",
       " 1,\n",
       " 0,\n",
       " 1,\n",
       " 0,\n",
       " 1,\n",
       " 1,\n",
       " 0,\n",
       " 0,\n",
       " 1,\n",
       " 1,\n",
       " 0,\n",
       " 0,\n",
       " 0,\n",
       " 0,\n",
       " 1,\n",
       " 1,\n",
       " 0,\n",
       " 0,\n",
       " 1,\n",
       " 0,\n",
       " 1,\n",
       " 1,\n",
       " 1,\n",
       " 1,\n",
       " 0,\n",
       " 1,\n",
       " 1]"
      ]
     },
     "execution_count": 6,
     "metadata": {},
     "output_type": "execute_result"
    }
   ],
   "source": [
    "optimal_solution"
   ]
  },
  {
   "cell_type": "code",
   "execution_count": 7,
   "id": "abstract-staff",
   "metadata": {},
   "outputs": [
    {
     "data": {
      "text/plain": [
       "15774517"
      ]
     },
     "execution_count": 7,
     "metadata": {},
     "output_type": "execute_result"
    }
   ],
   "source": [
    "optimal_profits"
   ]
  },
  {
   "cell_type": "markdown",
   "id": "wired-sullivan",
   "metadata": {},
   "source": [
    "# Actual Computation"
   ]
  },
  {
   "cell_type": "code",
   "execution_count": 8,
   "id": "sixth-handling",
   "metadata": {},
   "outputs": [],
   "source": [
    "def knapsack_dp(c, w, p, s, lookup):\n",
    "    if (c <= 0):\n",
    "        return 0, [0 for _ in range(len(w))]\n",
    "\n",
    "    if (len(w) == 0):\n",
    "        return 0, s.copy()\n",
    "\n",
    "    lookup_profits, lookup_s = lookup[c-1][len(w)-1]\n",
    "    if lookup_profits >= 0:\n",
    "        return lookup_profits, lookup_s.copy()\n",
    "\n",
    "    exclude_last_item, exclude_last_item_s = knapsack_dp(\n",
    "        c, w[:-1], p[:-1], s.copy(), lookup)\n",
    "    exclude_last_item_s.append(0)\n",
    "\n",
    "    if (w[-1] > c):\n",
    "        lookup[c-1][len(w)-1] = exclude_last_item, exclude_last_item_s.copy()\n",
    "        return exclude_last_item, exclude_last_item_s.copy()\n",
    "\n",
    "    include_last_item, include_last_item_s = knapsack_dp(\n",
    "        c - w[-1], w[:-1], p[:-1], s.copy(), lookup)\n",
    "    include_last_item += p[-1]\n",
    "    include_last_item_s.append(1)\n",
    "\n",
    "    if (include_last_item > exclude_last_item):\n",
    "        lookup[c-1][len(w)-1] = include_last_item, include_last_item_s.copy()\n",
    "        return include_last_item, include_last_item_s.copy()\n",
    "    else:\n",
    "        lookup[c-1][len(w)-1] = exclude_last_item, exclude_last_item_s.copy()\n",
    "        return exclude_last_item, exclude_last_item_s.copy()"
   ]
  },
  {
   "cell_type": "code",
   "execution_count": null,
   "id": "metric-demonstration",
   "metadata": {},
   "outputs": [],
   "source": [
    "ans, s = knapsack_dp(capacity, weights, profits, [], [[(-1, []) for i in range(len(weights))] for j in range(capacity)])"
   ]
  },
  {
   "cell_type": "code",
   "execution_count": null,
   "id": "consolidated-terminology",
   "metadata": {},
   "outputs": [],
   "source": [
    "ans"
   ]
  },
  {
   "cell_type": "code",
   "execution_count": null,
   "id": "different-boundary",
   "metadata": {},
   "outputs": [],
   "source": [
    "s"
   ]
  },
  {
   "cell_type": "code",
   "execution_count": null,
   "id": "remarkable-right",
   "metadata": {},
   "outputs": [],
   "source": []
  }
 ],
 "metadata": {
  "kernelspec": {
   "display_name": "Python 3",
   "language": "python",
   "name": "python3"
  },
  "language_info": {
   "codemirror_mode": {
    "name": "ipython",
    "version": 3
   },
   "file_extension": ".py",
   "mimetype": "text/x-python",
   "name": "python",
   "nbconvert_exporter": "python",
   "pygments_lexer": "ipython3",
   "version": "3.7.3"
  },
  "varInspector": {
   "cols": {
    "lenName": 16,
    "lenType": 16,
    "lenVar": 40
   },
   "kernels_config": {
    "python": {
     "delete_cmd_postfix": "",
     "delete_cmd_prefix": "del ",
     "library": "var_list.py",
     "varRefreshCmd": "print(var_dic_list())"
    },
    "r": {
     "delete_cmd_postfix": ") ",
     "delete_cmd_prefix": "rm(",
     "library": "var_list.r",
     "varRefreshCmd": "cat(var_dic_list()) "
    }
   },
   "types_to_exclude": [
    "module",
    "function",
    "builtin_function_or_method",
    "instance",
    "_Feature"
   ],
   "window_display": false
  }
 },
 "nbformat": 4,
 "nbformat_minor": 5
}
