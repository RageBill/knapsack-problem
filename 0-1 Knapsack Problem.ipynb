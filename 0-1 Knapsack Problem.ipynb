{
 "cells": [
  {
   "cell_type": "code",
   "execution_count": 1,
   "id": "stylish-latino",
   "metadata": {
    "ExecuteTime": {
     "end_time": "2021-02-05T10:08:16.548563Z",
     "start_time": "2021-02-05T10:08:16.461343Z"
    }
   },
   "outputs": [],
   "source": [
    "import util\n",
    "import numpy as np"
   ]
  },
  {
   "cell_type": "code",
   "execution_count": 2,
   "id": "undefined-sleeping",
   "metadata": {
    "ExecuteTime": {
     "end_time": "2021-02-05T10:08:16.557125Z",
     "start_time": "2021-02-05T10:08:16.551353Z"
    }
   },
   "outputs": [],
   "source": [
    "[[capacity], weights, profits, optimal_solution] = util.read_data('c08')"
   ]
  },
  {
   "cell_type": "code",
   "execution_count": 3,
   "id": "meaning-painting",
   "metadata": {
    "ExecuteTime": {
     "end_time": "2021-02-05T10:08:16.568696Z",
     "start_time": "2021-02-05T10:08:16.560251Z"
    }
   },
   "outputs": [
    {
     "data": {
      "text/plain": [
       "6764180"
      ]
     },
     "execution_count": 3,
     "metadata": {},
     "output_type": "execute_result"
    }
   ],
   "source": [
    "capacity"
   ]
  },
  {
   "cell_type": "code",
   "execution_count": 4,
   "id": "standard-wayne",
   "metadata": {
    "ExecuteTime": {
     "end_time": "2021-02-05T10:08:16.576025Z",
     "start_time": "2021-02-05T10:08:16.570654Z"
    }
   },
   "outputs": [
    {
     "data": {
      "text/plain": [
       "[382745,\n",
       " 799601,\n",
       " 909247,\n",
       " 729069,\n",
       " 467902,\n",
       " 44328,\n",
       " 34610,\n",
       " 698150,\n",
       " 823460,\n",
       " 903959,\n",
       " 853665,\n",
       " 551830,\n",
       " 610856,\n",
       " 670702,\n",
       " 488960,\n",
       " 951111,\n",
       " 323046,\n",
       " 446298,\n",
       " 931161,\n",
       " 31385,\n",
       " 496951,\n",
       " 264724,\n",
       " 224916,\n",
       " 169684,\n",
       " 321345,\n",
       " 800102,\n",
       " 64321,\n",
       " 552220]"
      ]
     },
     "execution_count": 4,
     "metadata": {},
     "output_type": "execute_result"
    }
   ],
   "source": [
    "weights"
   ]
  },
  {
   "cell_type": "code",
   "execution_count": 5,
   "id": "polish-suicide",
   "metadata": {
    "ExecuteTime": {
     "end_time": "2021-02-05T10:08:16.582442Z",
     "start_time": "2021-02-05T10:08:16.578210Z"
    }
   },
   "outputs": [
    {
     "data": {
      "text/plain": [
       "[825594,\n",
       " 1677009,\n",
       " 1676628,\n",
       " 1523970,\n",
       " 943972,\n",
       " 97426,\n",
       " 69666,\n",
       " 1296457,\n",
       " 1679693,\n",
       " 1902996,\n",
       " 1844992,\n",
       " 1049289,\n",
       " 1252836,\n",
       " 1319836,\n",
       " 953277,\n",
       " 2067538,\n",
       " 675367,\n",
       " 853655,\n",
       " 1826027,\n",
       " 65731,\n",
       " 901489,\n",
       " 577243,\n",
       " 466257,\n",
       " 369261,\n",
       " 942881,\n",
       " 1599626,\n",
       " 725377,\n",
       " 1943209]"
      ]
     },
     "execution_count": 5,
     "metadata": {},
     "output_type": "execute_result"
    }
   ],
   "source": [
    "profits"
   ]
  },
  {
   "cell_type": "code",
   "execution_count": 6,
   "id": "married-frequency",
   "metadata": {
    "ExecuteTime": {
     "end_time": "2021-02-05T10:08:16.591598Z",
     "start_time": "2021-02-05T10:08:16.585843Z"
    }
   },
   "outputs": [
    {
     "data": {
      "text/plain": [
       "[1,\n",
       " 1,\n",
       " 0,\n",
       " 1,\n",
       " 1,\n",
       " 1,\n",
       " 0,\n",
       " 0,\n",
       " 0,\n",
       " 1,\n",
       " 1,\n",
       " 0,\n",
       " 0,\n",
       " 0,\n",
       " 0,\n",
       " 1,\n",
       " 0,\n",
       " 0,\n",
       " 0,\n",
       " 1,\n",
       " 0,\n",
       " 1,\n",
       " 1,\n",
       " 1,\n",
       " 1,\n",
       " 0,\n",
       " 1,\n",
       " 1]"
      ]
     },
     "execution_count": 6,
     "metadata": {},
     "output_type": "execute_result"
    }
   ],
   "source": [
    "optimal_solution"
   ]
  },
  {
   "cell_type": "code",
   "execution_count": 7,
   "id": "unusual-rates",
   "metadata": {
    "ExecuteTime": {
     "end_time": "2021-02-05T10:08:16.598092Z",
     "start_time": "2021-02-05T10:08:16.595754Z"
    }
   },
   "outputs": [],
   "source": [
    "optimal_ans = np.multiply(optimal_solution, profits).sum()"
   ]
  },
  {
   "cell_type": "code",
   "execution_count": 8,
   "id": "realistic-dating",
   "metadata": {
    "ExecuteTime": {
     "end_time": "2021-02-05T10:08:16.609120Z",
     "start_time": "2021-02-05T10:08:16.600956Z"
    }
   },
   "outputs": [],
   "source": [
    "def knapsack(c, w, p, s):\n",
    "    if (c == 0):\n",
    "        return 0, '0' * len(w)\n",
    "    \n",
    "    if (len(w) == 0):\n",
    "        return 0, s\n",
    "    \n",
    "    exclude_last_item, exclude_last_item_s = knapsack(c, w[:-1], p[:-1], s)\n",
    "    exclude_last_item_s += '0'\n",
    "    \n",
    "    if (c - w[-1] < 0):\n",
    "        return exclude_last_item, exclude_last_item_s\n",
    "    \n",
    "    include_last_item, include_last_item_s = knapsack(c - w[-1], w[:-1], p[:-1], s)\n",
    "    include_last_item += p[-1]\n",
    "    include_last_item_s += '1'\n",
    "    \n",
    "    if(include_last_item > exclude_last_item):\n",
    "        return include_last_item, include_last_item_s\n",
    "    else:\n",
    "        return exclude_last_item, exclude_last_item_s"
   ]
  },
  {
   "cell_type": "code",
   "execution_count": 9,
   "id": "dominant-strategy",
   "metadata": {
    "ExecuteTime": {
     "end_time": "2021-02-05T10:10:29.023616Z",
     "start_time": "2021-02-05T10:08:16.612191Z"
    }
   },
   "outputs": [],
   "source": [
    "ans, s = knapsack(capacity, weights, profits, '')"
   ]
  },
  {
   "cell_type": "code",
   "execution_count": 10,
   "id": "excited-motivation",
   "metadata": {
    "ExecuteTime": {
     "end_time": "2021-02-05T10:10:29.028715Z",
     "start_time": "2021-02-05T10:10:29.025594Z"
    }
   },
   "outputs": [
    {
     "name": "stdout",
     "output_type": "stream",
     "text": [
      "15973456\n",
      "15973456\n"
     ]
    }
   ],
   "source": [
    "print(ans)\n",
    "print(optimal_ans)"
   ]
  },
  {
   "cell_type": "code",
   "execution_count": 11,
   "id": "latest-delight",
   "metadata": {
    "ExecuteTime": {
     "end_time": "2021-02-05T10:10:29.035439Z",
     "start_time": "2021-02-05T10:10:29.031415Z"
    }
   },
   "outputs": [
    {
     "name": "stdout",
     "output_type": "stream",
     "text": [
      "[1, 1, 0, 1, 1, 1, 0, 0, 0, 1, 1, 0, 0, 0, 0, 1, 0, 0, 0, 1, 0, 1, 1, 1, 1, 0, 1, 1]\n",
      "[1, 1, 0, 1, 1, 1, 0, 0, 0, 1, 1, 0, 0, 0, 0, 1, 0, 0, 0, 1, 0, 1, 1, 1, 1, 0, 1, 1]\n"
     ]
    }
   ],
   "source": [
    "print(util.split_to_num(s))\n",
    "print(optimal_solution)"
   ]
  },
  {
   "cell_type": "code",
   "execution_count": null,
   "id": "excited-engine",
   "metadata": {},
   "outputs": [],
   "source": []
  }
 ],
 "metadata": {
  "kernelspec": {
   "display_name": "Python 3",
   "language": "python",
   "name": "python3"
  },
  "language_info": {
   "codemirror_mode": {
    "name": "ipython",
    "version": 3
   },
   "file_extension": ".py",
   "mimetype": "text/x-python",
   "name": "python",
   "nbconvert_exporter": "python",
   "pygments_lexer": "ipython3",
   "version": "3.7.3"
  }
 },
 "nbformat": 4,
 "nbformat_minor": 5
}
